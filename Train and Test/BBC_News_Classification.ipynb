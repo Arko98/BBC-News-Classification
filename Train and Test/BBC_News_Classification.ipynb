{
  "nbformat": 4,
  "nbformat_minor": 0,
  "metadata": {
    "colab": {
      "name": "BBC News Classification.ipynb",
      "provenance": []
    },
    "kernelspec": {
      "name": "python3",
      "display_name": "Python 3"
    },
    "accelerator": "GPU"
  },
  "cells": [
    {
      "cell_type": "markdown",
      "metadata": {
        "id": "bghdN0VGmOn2",
        "colab_type": "text"
      },
      "source": [
        "# Imports"
      ]
    },
    {
      "cell_type": "code",
      "metadata": {
        "id": "ymJsdG75mTWG",
        "colab_type": "code",
        "colab": {}
      },
      "source": [
        "import csv\n",
        "import io\n",
        "import matplotlib.pyplot as plt\n",
        "import tensorflow as tf\n",
        "import numpy as np\n",
        "from tensorflow.keras.preprocessing.text import Tokenizer\n",
        "from tensorflow.keras.preprocessing.sequence import pad_sequences\n",
        "from tensorflow.keras.utils import to_categorical\n",
        "from google.colab import files"
      ],
      "execution_count": 0,
      "outputs": []
    },
    {
      "cell_type": "markdown",
      "metadata": {
        "id": "mc_G-XQkmCdV",
        "colab_type": "text"
      },
      "source": [
        "# Hyper Parameters\n"
      ]
    },
    {
      "cell_type": "code",
      "metadata": {
        "id": "piWFHJOJl8mW",
        "colab_type": "code",
        "colab": {}
      },
      "source": [
        "vocab_size = 8000\n",
        "embedding_dim = 64\n",
        "max_length = 120\n",
        "trunc_type='post'\n",
        "padding_type='post'\n",
        "oov_tok = \"<OOV>\"\n",
        "training_portion = .8\n",
        "num_epochs = 20"
      ],
      "execution_count": 0,
      "outputs": []
    },
    {
      "cell_type": "markdown",
      "metadata": {
        "id": "pHUXV5qWmbym",
        "colab_type": "text"
      },
      "source": [
        "# Dataset Loading and Preprocessing"
      ]
    },
    {
      "cell_type": "code",
      "metadata": {
        "id": "SVw4bulfmJSm",
        "colab_type": "code",
        "colab": {
          "base_uri": "https://localhost:8080/",
          "height": 357
        },
        "outputId": "759bf619-3b4e-45fd-f954-5cf0bc9d3786"
      },
      "source": [
        "!wget --no-check-certificate \\\n",
        "    https://storage.googleapis.com/laurencemoroney-blog.appspot.com/bbc-text.csv \\\n",
        "    -O /tmp/bbc-text.csv\n",
        "\n",
        "sentences = []\n",
        "labels = []\n",
        "stopwords = [ \"a\", \"about\", \"above\", \"after\", \"again\", \"against\", \"all\", \"am\", \"an\", \"and\", \"any\", \"are\", \"as\", \"at\", \"be\", \"because\", \"been\", \"before\", \"being\", \"below\", \"between\", \"both\", \"but\", \"by\", \"could\", \"did\", \"do\", \"does\", \"doing\", \"down\", \"during\", \"each\", \"few\", \"for\", \"from\", \"further\", \"had\", \"has\", \"have\", \"having\", \"he\", \"he'd\", \"he'll\", \"he's\", \"her\", \"here\", \"here's\", \"hers\", \"herself\", \"him\", \"himself\", \"his\", \"how\", \"how's\", \"i\", \"i'd\", \"i'll\", \"i'm\", \"i've\", \"if\", \"in\", \"into\", \"is\", \"it\", \"it's\", \"its\", \"itself\", \"let's\", \"me\", \"more\", \"most\", \"my\", \"myself\", \"nor\", \"of\", \"on\", \"once\", \"only\", \"or\", \"other\", \"ought\", \"our\", \"ours\", \"ourselves\", \"out\", \"over\", \"own\", \"same\", \"she\", \"she'd\", \"she'll\", \"she's\", \"should\", \"so\", \"some\", \"such\", \"than\", \"that\", \"that's\", \"the\", \"their\", \"theirs\", \"them\", \"themselves\", \"then\", \"there\", \"there's\", \"these\", \"they\", \"they'd\", \"they'll\", \"they're\", \"they've\", \"this\", \"those\", \"through\", \"to\", \"too\", \"under\", \"until\", \"up\", \"very\", \"was\", \"we\", \"we'd\", \"we'll\", \"we're\", \"we've\", \"were\", \"what\", \"what's\", \"when\", \"when's\", \"where\", \"where's\", \"which\", \"while\", \"who\", \"who's\", \"whom\", \"why\", \"why's\", \"with\", \"would\", \"you\", \"you'd\", \"you'll\", \"you're\", \"you've\", \"your\", \"yours\", \"yourself\", \"yourselves\" ]\n",
        "\n",
        "with open(\"/tmp/bbc-text.csv\", 'r') as csvfile:\n",
        "    reader = csv.reader(csvfile, delimiter=',')\n",
        "    next(reader)\n",
        "    for row in reader:\n",
        "        labels.append(row[0])\n",
        "        sentence = row[1]\n",
        "        for word in stopwords:\n",
        "            token = \" \" + word + \" \"\n",
        "            sentence = sentence.replace(token, \" \")\n",
        "        sentences.append(sentence)\n",
        "\n",
        "print(len(labels))\n",
        "print(len(sentences))\n",
        "\n",
        "train_size = int(len(sentences) * training_portion)\n",
        "\n",
        "train_sentences = sentences[:train_size]\n",
        "train_labels = labels[:train_size]\n",
        "\n",
        "validation_sentences = sentences[train_size:]\n",
        "validation_labels = labels[train_size:]\n",
        "\n",
        "print(train_size)\n",
        "print(len(train_sentences))\n",
        "print(len(train_labels))\n",
        "print(len(validation_sentences))\n",
        "print(len(validation_labels))\n",
        "\n",
        "tokenizer = Tokenizer(num_words = vocab_size, oov_token=oov_tok)\n",
        "tokenizer.fit_on_texts(train_sentences)\n",
        "word_index = tokenizer.word_index\n",
        "\n",
        "train_sequences = tokenizer.texts_to_sequences(train_sentences)\n",
        "train_padded = pad_sequences(train_sequences, padding=padding_type, maxlen=max_length)\n",
        "\n",
        "validation_sequences = tokenizer.texts_to_sequences(validation_sentences)\n",
        "validation_padded = pad_sequences(validation_sequences, padding=padding_type, maxlen=max_length)\n",
        "\n",
        "label_tokenizer = Tokenizer()\n",
        "label_tokenizer.fit_on_texts(labels)\n",
        "\n",
        "training_label_seq = to_categorical(np.array(label_tokenizer.texts_to_sequences(train_labels)), num_classes = 6)\n",
        "validation_label_seq = to_categorical(np.array(label_tokenizer.texts_to_sequences(validation_labels)), num_classes = 6)\n",
        "\n",
        "print(training_label_seq.shape)\n",
        "print(validation_label_seq.shape)"
      ],
      "execution_count": 3,
      "outputs": [
        {
          "output_type": "stream",
          "text": [
            "--2020-05-06 11:15:33--  https://storage.googleapis.com/laurencemoroney-blog.appspot.com/bbc-text.csv\n",
            "Resolving storage.googleapis.com (storage.googleapis.com)... 172.217.11.176, 2607:f8b0:4007:80e::2010\n",
            "Connecting to storage.googleapis.com (storage.googleapis.com)|172.217.11.176|:443... connected.\n",
            "HTTP request sent, awaiting response... 200 OK\n",
            "Length: 5057493 (4.8M) [application/octet-stream]\n",
            "Saving to: ‘/tmp/bbc-text.csv’\n",
            "\n",
            "\r/tmp/bbc-text.csv     0%[                    ]       0  --.-KB/s               \r/tmp/bbc-text.csv   100%[===================>]   4.82M  --.-KB/s    in 0.02s   \n",
            "\n",
            "2020-05-06 11:15:33 (237 MB/s) - ‘/tmp/bbc-text.csv’ saved [5057493/5057493]\n",
            "\n",
            "2225\n",
            "2225\n",
            "1780\n",
            "1780\n",
            "1780\n",
            "445\n",
            "445\n",
            "(1780, 6)\n",
            "(445, 6)\n"
          ],
          "name": "stdout"
        }
      ]
    },
    {
      "cell_type": "markdown",
      "metadata": {
        "id": "hMIM-GzDnJ2U",
        "colab_type": "text"
      },
      "source": [
        "# Model"
      ]
    },
    {
      "cell_type": "code",
      "metadata": {
        "id": "0nRX5Dd8nMnu",
        "colab_type": "code",
        "colab": {
          "base_uri": "https://localhost:8080/",
          "height": 323
        },
        "outputId": "9c59acf0-2c36-4cfb-ca05-573b3c72905d"
      },
      "source": [
        "model = tf.keras.Sequential([tf.keras.layers.Embedding(vocab_size, embedding_dim, input_length = max_length),\n",
        "                             tf.keras.layers.LSTM(64 ,return_state = False),\n",
        "                             tf.keras.layers.Dense(256, activation='relu'),\n",
        "                             tf.keras.layers.Dropout(0.2),\n",
        "                             tf.keras.layers.Dense(6, activation='softmax')\n",
        "                            ])\n",
        "model.compile(loss='categorical_crossentropy', optimizer='adam', metrics=['accuracy'])\n",
        "model.summary()"
      ],
      "execution_count": 4,
      "outputs": [
        {
          "output_type": "stream",
          "text": [
            "Model: \"sequential\"\n",
            "_________________________________________________________________\n",
            "Layer (type)                 Output Shape              Param #   \n",
            "=================================================================\n",
            "embedding (Embedding)        (None, 120, 64)           512000    \n",
            "_________________________________________________________________\n",
            "lstm (LSTM)                  (None, 64)                33024     \n",
            "_________________________________________________________________\n",
            "dense (Dense)                (None, 256)               16640     \n",
            "_________________________________________________________________\n",
            "dropout (Dropout)            (None, 256)               0         \n",
            "_________________________________________________________________\n",
            "dense_1 (Dense)              (None, 6)                 1542      \n",
            "=================================================================\n",
            "Total params: 563,206\n",
            "Trainable params: 563,206\n",
            "Non-trainable params: 0\n",
            "_________________________________________________________________\n"
          ],
          "name": "stdout"
        }
      ]
    },
    {
      "cell_type": "markdown",
      "metadata": {
        "id": "zOr7YDrgoWW-",
        "colab_type": "text"
      },
      "source": [
        "# Training and Validation"
      ]
    },
    {
      "cell_type": "code",
      "metadata": {
        "id": "JLWe-l40oM8H",
        "colab_type": "code",
        "colab": {
          "base_uri": "https://localhost:8080/",
          "height": 697
        },
        "outputId": "cc213463-4eae-462b-e705-668522c01f76"
      },
      "source": [
        "history = model.fit(train_padded, training_label_seq, epochs=num_epochs, validation_data=(validation_padded, validation_label_seq), verbose=1)"
      ],
      "execution_count": 5,
      "outputs": [
        {
          "output_type": "stream",
          "text": [
            "Epoch 1/20\n",
            "56/56 [==============================] - 1s 23ms/step - loss: 1.6628 - accuracy: 0.2461 - val_loss: 1.4853 - val_accuracy: 0.2427\n",
            "Epoch 2/20\n",
            "56/56 [==============================] - 1s 15ms/step - loss: 1.0535 - accuracy: 0.5781 - val_loss: 0.6360 - val_accuracy: 0.7955\n",
            "Epoch 3/20\n",
            "56/56 [==============================] - 1s 15ms/step - loss: 0.3957 - accuracy: 0.8708 - val_loss: 0.7135 - val_accuracy: 0.7888\n",
            "Epoch 4/20\n",
            "56/56 [==============================] - 1s 15ms/step - loss: 0.1764 - accuracy: 0.9534 - val_loss: 0.2235 - val_accuracy: 0.9326\n",
            "Epoch 5/20\n",
            "56/56 [==============================] - 1s 15ms/step - loss: 0.0540 - accuracy: 0.9865 - val_loss: 0.3721 - val_accuracy: 0.9011\n",
            "Epoch 6/20\n",
            "56/56 [==============================] - 1s 15ms/step - loss: 0.0333 - accuracy: 0.9944 - val_loss: 0.2530 - val_accuracy: 0.9258\n",
            "Epoch 7/20\n",
            "56/56 [==============================] - 1s 15ms/step - loss: 0.0157 - accuracy: 0.9966 - val_loss: 0.2250 - val_accuracy: 0.9393\n",
            "Epoch 8/20\n",
            "56/56 [==============================] - 1s 15ms/step - loss: 0.0046 - accuracy: 0.9994 - val_loss: 0.2188 - val_accuracy: 0.9461\n",
            "Epoch 9/20\n",
            "56/56 [==============================] - 1s 15ms/step - loss: 0.0012 - accuracy: 1.0000 - val_loss: 0.2549 - val_accuracy: 0.9461\n",
            "Epoch 10/20\n",
            "56/56 [==============================] - 1s 15ms/step - loss: 7.3656e-04 - accuracy: 1.0000 - val_loss: 0.2410 - val_accuracy: 0.9506\n",
            "Epoch 11/20\n",
            "56/56 [==============================] - 1s 15ms/step - loss: 4.7007e-04 - accuracy: 1.0000 - val_loss: 0.2448 - val_accuracy: 0.9506\n",
            "Epoch 12/20\n",
            "56/56 [==============================] - 1s 15ms/step - loss: 3.5934e-04 - accuracy: 1.0000 - val_loss: 0.2580 - val_accuracy: 0.9506\n",
            "Epoch 13/20\n",
            "56/56 [==============================] - 1s 15ms/step - loss: 2.7128e-04 - accuracy: 1.0000 - val_loss: 0.2708 - val_accuracy: 0.9506\n",
            "Epoch 14/20\n",
            "56/56 [==============================] - 1s 15ms/step - loss: 2.4437e-04 - accuracy: 1.0000 - val_loss: 0.2787 - val_accuracy: 0.9506\n",
            "Epoch 15/20\n",
            "56/56 [==============================] - 1s 15ms/step - loss: 1.8075e-04 - accuracy: 1.0000 - val_loss: 0.2847 - val_accuracy: 0.9483\n",
            "Epoch 16/20\n",
            "56/56 [==============================] - 1s 15ms/step - loss: 1.5871e-04 - accuracy: 1.0000 - val_loss: 0.2910 - val_accuracy: 0.9483\n",
            "Epoch 17/20\n",
            "56/56 [==============================] - 1s 15ms/step - loss: 1.3326e-04 - accuracy: 1.0000 - val_loss: 0.2949 - val_accuracy: 0.9461\n",
            "Epoch 18/20\n",
            "56/56 [==============================] - 1s 15ms/step - loss: 1.1208e-04 - accuracy: 1.0000 - val_loss: 0.2951 - val_accuracy: 0.9483\n",
            "Epoch 19/20\n",
            "56/56 [==============================] - 1s 15ms/step - loss: 9.9869e-05 - accuracy: 1.0000 - val_loss: 0.3005 - val_accuracy: 0.9483\n",
            "Epoch 20/20\n",
            "56/56 [==============================] - 1s 16ms/step - loss: 8.6603e-05 - accuracy: 1.0000 - val_loss: 0.3070 - val_accuracy: 0.9483\n"
          ],
          "name": "stdout"
        }
      ]
    },
    {
      "cell_type": "markdown",
      "metadata": {
        "id": "kkYA-qLgohs3",
        "colab_type": "text"
      },
      "source": [
        "# Accuracy and Loss Plot"
      ]
    },
    {
      "cell_type": "code",
      "metadata": {
        "id": "5JIzg4bAolPn",
        "colab_type": "code",
        "colab": {
          "base_uri": "https://localhost:8080/",
          "height": 541
        },
        "outputId": "1ca54dbb-166b-4329-ff99-fd76289f2bc4"
      },
      "source": [
        "def plot_graphs(history, string):\n",
        "  plt.plot(history.history[string])\n",
        "  plt.plot(history.history['val_'+string])\n",
        "  plt.xlabel(\"Epochs\")\n",
        "  plt.ylabel(string)\n",
        "  plt.legend([string, 'val_'+string])\n",
        "  plt.show()\n",
        "  \n",
        "plot_graphs(history, \"accuracy\")\n",
        "plot_graphs(history, \"loss\")"
      ],
      "execution_count": 7,
      "outputs": [
        {
          "output_type": "display_data",
          "data": {
            "image/png": "[encoded data removed]",
            "text/plain": [
              "<Figure size 432x288 with 1 Axes>"
            ]
          },
          "metadata": {
            "tags": [],
            "needs_background": "light"
          }
        },
        {
          "output_type": "display_data",
          "data": {
            "image/png": "[encoded data removed]",
            "text/plain": [
              "<Figure size 432x288 with 1 Axes>"
            ]
          },
          "metadata": {
            "tags": [],
            "needs_background": "light"
          }
        }
      ]
    },
    {
      "cell_type": "markdown",
      "metadata": {
        "id": "rP34IN0Eo06e",
        "colab_type": "text"
      },
      "source": [
        "# Word Embedding Visualisation"
      ]
    },
    {
      "cell_type": "code",
      "metadata": {
        "id": "2n76HtNao4Uq",
        "colab_type": "code",
        "colab": {
          "base_uri": "https://localhost:8080/",
          "height": 34
        },
        "outputId": "61643833-01bd-4e42-cb69-d5f32f67bc6f"
      },
      "source": [
        "reverse_word_index = dict([(value, key) for (key, value) in word_index.items()])\n",
        "\n",
        "def decode_sentence(text):\n",
        "    return ' '.join([reverse_word_index.get(i, '?') for i in text])\n",
        "\n",
        "e = model.layers[0]\n",
        "weights = e.get_weights()[0]\n",
        "print(weights.shape) # shape: (vocab_size, embedding_dim)\n",
        "\n",
        "out_v = io.open('vecs.tsv', 'w', encoding='utf-8')\n",
        "out_m = io.open('meta.tsv', 'w', encoding='utf-8')\n",
        "for word_num in range(1, vocab_size):\n",
        "  word = reverse_word_index[word_num]\n",
        "  embeddings = weights[word_num]\n",
        "  out_m.write(word + \"\\n\")\n",
        "  out_v.write('\\t'.join([str(x) for x in embeddings]) + \"\\n\")\n",
        "out_v.close()\n",
        "out_m.close()\n",
        "\n",
        "files.download('vecs.tsv')\n",
        "files.download('meta.tsv')"
      ],
      "execution_count": 8,
      "outputs": [
        {
          "output_type": "stream",
          "text": [
            "(8000, 64)\n"
          ],
          "name": "stdout"
        }
      ]
    }
  ]
}